{
  "nbformat": 4,
  "nbformat_minor": 0,
  "metadata": {
    "colab": {
      "name": "ChatBot-telegram.ipynb",
      "provenance": [],
      "collapsed_sections": [],
      "authorship_tag": "ABX9TyN0QOy0JxLbZcQYIIU5Z4cC",
      "include_colab_link": true
    },
    "kernelspec": {
      "name": "python3",
      "display_name": "Python 3"
    },
    "language_info": {
      "name": "python"
    }
  },
  "cells": [
    {
      "cell_type": "markdown",
      "metadata": {
        "id": "view-in-github",
        "colab_type": "text"
      },
      "source": [
        "<a href=\"https://colab.research.google.com/github/AndreFaria-dev/chatbot/blob/main/ChatBot_telegram.ipynb\" target=\"_parent\"><img src=\"https://colab.research.google.com/assets/colab-badge.svg\" alt=\"Open In Colab\"/></a>"
      ]
    },
    {
      "cell_type": "markdown",
      "metadata": {
        "id": "xgEL8ChuTp7d"
      },
      "source": [
        "Importando as bibliotecas"
      ]
    },
    {
      "cell_type": "code",
      "metadata": {
        "id": "F3fp8upiTi_I"
      },
      "source": [
        "#API's para interagir com o Telegram\n",
        "!pip install python-telegram-bot --upgrade\n",
        "\n",
        "\n",
        "#Bibliotecas para mecanismos de chatbot\n",
        "!pip install chatterbot\n",
        "!pip install chatterbot-corpus\n",
        "\n",
        "#Telegram\n",
        "from telegram.ext import CommandHandler, Filters, MessageHandler, Updater\n",
        "\n",
        "#Chatterbot\n",
        "from chatterbot.trainers import ListTrainer,ChatterBotCorpusTrainer\n",
        "from chatterbot import ChatBot\n",
        "\n",
        "import os"
      ],
      "execution_count": null,
      "outputs": []
    },
    {
      "cell_type": "markdown",
      "metadata": {
        "id": "sPfPtNClTo-p"
      },
      "source": [
        "Configurações de variáveis"
      ]
    },
    {
      "cell_type": "code",
      "metadata": {
        "id": "vqRkfBu-7r3b"
      },
      "source": [
        "#@title Cole seu token gerado pelo BotFather\n",
        "TELEGRAM_TOKEN = \"\" #@param {type:\"string\"}"
      ],
      "execution_count": 58,
      "outputs": []
    },
    {
      "cell_type": "markdown",
      "metadata": {
        "id": "y3fwUefjSgE8"
      },
      "source": [
        "Algoritmo de treino ChatBot"
      ]
    },
    {
      "cell_type": "code",
      "metadata": {
        "id": "syswjIXjSfUE"
      },
      "source": [
        "robo = ChatBot('Bot')\n",
        "\n",
        "trainer = ChatterBotCorpusTrainer(robo)\n",
        "\n",
        "trainer.train('chatterbot.corpus.portuguese')\n",
        "\n"
      ],
      "execution_count": null,
      "outputs": []
    },
    {
      "cell_type": "code",
      "metadata": {
        "id": "zDGqEv-15Ko5"
      },
      "source": [
        "def processarConversa(mensagem):\n",
        "  response_chatter = robo.get_response(mensagem)\n",
        "  #print('Bot: ',response_chatter)\n",
        "  return response_chatter\n",
        "\n",
        "\n",
        "#processarConversa(mensagem = input(\"Você: \"))"
      ],
      "execution_count": 60,
      "outputs": []
    },
    {
      "cell_type": "markdown",
      "metadata": {
        "id": "9Z9Hw6JVdXtZ"
      },
      "source": [
        "Aqui serão feitas as entradas e saídas de texto com uso da API do Telegram"
      ]
    },
    {
      "cell_type": "code",
      "metadata": {
        "id": "Ojmsq_XXb-BH"
      },
      "source": [
        "def start(update, context):\n",
        "    response_message = \"Seja bem vindo\"\n",
        "    context.bot.send_message(\n",
        "        chat_id=update.effective_chat.id, text=response_message\n",
        "    )\n",
        "\n",
        "def responder(update,context):\n",
        "\n",
        "  \n",
        "  #Obtendo o String da mensagem enviada pelo usuário\n",
        "  received_message = update.message.text\n",
        "  \n",
        "\n",
        "  #Formando a resposta para o usuário em String\n",
        "  \n",
        "  response_message = str(processarConversa(received_message))\n",
        "\n",
        "  print(\"Usuário disse: \",received_message)\n",
        "  print(\"Bot disse: \",response_message)\n",
        "\n",
        "  context.bot.send_message(chat_id=update.effective_chat.id, text = response_message)\n",
        "\n",
        "\n",
        "#Função principal\n",
        "def main():\n",
        "  updater = Updater(token=TELEGRAM_TOKEN)\n",
        "  \n",
        "  dispatcher = updater.dispatcher\n",
        "\n",
        "  dispatcher.add_handler(CommandHandler(\"start\", start))\n",
        "  dispatcher.add_handler(MessageHandler(Filters.text, responder))\n",
        "  \n",
        "  \n",
        "\n",
        "  updater.start_polling()\n",
        "  updater.idle()\n",
        "\n",
        "main()"
      ],
      "execution_count": 61,
      "outputs": []
    }
  ]
}