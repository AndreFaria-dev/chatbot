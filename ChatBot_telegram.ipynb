{
  "nbformat": 4,
  "nbformat_minor": 0,
  "metadata": {
    "colab": {
      "name": "ChatBot-telegram.ipynb",
      "provenance": [],
      "collapsed_sections": [],
      "authorship_tag": "ABX9TyOx8GYOETseYaL/bi/R/Elv",
      "include_colab_link": true
    },
    "kernelspec": {
      "name": "python3",
      "display_name": "Python 3"
    },
    "language_info": {
      "name": "python"
    }
  },
  "cells": [
    {
      "cell_type": "markdown",
      "metadata": {
        "id": "view-in-github",
        "colab_type": "text"
      },
      "source": [
        "<a href=\"https://colab.research.google.com/github/AndreFaria-dev/chatbot/blob/main/ChatBot_telegram.ipynb\" target=\"_parent\"><img src=\"https://colab.research.google.com/assets/colab-badge.svg\" alt=\"Open In Colab\"/></a>"
      ]
    },
    {
      "cell_type": "markdown",
      "metadata": {
        "id": "xgEL8ChuTp7d"
      },
      "source": [
        "Importando as bibliotecas"
      ]
    },
    {
      "cell_type": "code",
      "metadata": {
        "colab": {
          "base_uri": "https://localhost:8080/"
        },
        "id": "F3fp8upiTi_I",
        "outputId": "22449fc3-6888-419f-92ba-134a5d2738e3"
      },
      "source": [
        "#API's para interagir com o Telegram\n",
        "!pip install python-telegram-bot --upgrade\n",
        "\n",
        "\n",
        "#Bibliotecas para mecanismos de chatbot\n",
        "!pip install chatterbot\n",
        "!pip install chatterbot-corpus\n",
        "\n",
        "#Telegram\n",
        "from telegram.ext import CommandHandler, Filters, MessageHandler, Updater\n",
        "\n",
        "#Chatterbot\n",
        "from chatterbot.trainers import ListTrainer,ChatterBotCorpusTrainer\n",
        "from chatterbot import ChatBot\n",
        "\n",
        "import os"
      ],
      "execution_count": 57,
      "outputs": [
        {
          "output_type": "stream",
          "text": [
            "Requirement already up-to-date: python-telegram-bot in /usr/local/lib/python3.7/dist-packages (13.4.1)\n",
            "Requirement already satisfied, skipping upgrade: tornado>=5.1 in /usr/local/lib/python3.7/dist-packages (from python-telegram-bot) (5.1.1)\n",
            "Requirement already satisfied, skipping upgrade: pytz>=2018.6 in /usr/local/lib/python3.7/dist-packages (from python-telegram-bot) (2018.9)\n",
            "Requirement already satisfied, skipping upgrade: certifi in /usr/local/lib/python3.7/dist-packages (from python-telegram-bot) (2020.12.5)\n",
            "Requirement already satisfied, skipping upgrade: APScheduler==3.6.3 in /usr/local/lib/python3.7/dist-packages (from python-telegram-bot) (3.6.3)\n",
            "Requirement already satisfied, skipping upgrade: tzlocal>=1.2 in /usr/local/lib/python3.7/dist-packages (from APScheduler==3.6.3->python-telegram-bot) (1.5.1)\n",
            "Requirement already satisfied, skipping upgrade: setuptools>=0.7 in /usr/local/lib/python3.7/dist-packages (from APScheduler==3.6.3->python-telegram-bot) (54.2.0)\n",
            "Requirement already satisfied, skipping upgrade: six>=1.4.0 in /usr/local/lib/python3.7/dist-packages (from APScheduler==3.6.3->python-telegram-bot) (1.15.0)\n",
            "Requirement already satisfied: chatterbot in /usr/local/lib/python3.7/dist-packages (1.0.8)\n",
            "Requirement already satisfied: python-dateutil<2.9,>=2.8 in /usr/local/lib/python3.7/dist-packages (from chatterbot) (2.8.1)\n",
            "Requirement already satisfied: sqlalchemy<1.4,>=1.3 in /usr/local/lib/python3.7/dist-packages (from chatterbot) (1.3.24)\n",
            "Requirement already satisfied: pytz in /usr/local/lib/python3.7/dist-packages (from chatterbot) (2018.9)\n",
            "Requirement already satisfied: mathparse<0.2,>=0.1 in /usr/local/lib/python3.7/dist-packages (from chatterbot) (0.1.2)\n",
            "Requirement already satisfied: six>=1.5 in /usr/local/lib/python3.7/dist-packages (from python-dateutil<2.9,>=2.8->chatterbot) (1.15.0)\n",
            "Requirement already satisfied: chatterbot-corpus in /usr/local/lib/python3.7/dist-packages (1.2.0)\n",
            "Requirement already satisfied: PyYAML<4.0,>=3.12 in /usr/local/lib/python3.7/dist-packages (from chatterbot-corpus) (3.13)\n"
          ],
          "name": "stdout"
        }
      ]
    },
    {
      "cell_type": "markdown",
      "metadata": {
        "id": "sPfPtNClTo-p"
      },
      "source": [
        "Configurações de variáveis"
      ]
    },
    {
      "cell_type": "code",
      "metadata": {
        "id": "vqRkfBu-7r3b"
      },
      "source": [
        "TELEGRAM_TOKEN = '<SEU TOKEN AQUI>'"
      ],
      "execution_count": 58,
      "outputs": []
    },
    {
      "cell_type": "markdown",
      "metadata": {
        "id": "y3fwUefjSgE8"
      },
      "source": [
        "Algoritmo de treino ChatBot"
      ]
    },
    {
      "cell_type": "code",
      "metadata": {
        "colab": {
          "base_uri": "https://localhost:8080/"
        },
        "id": "syswjIXjSfUE",
        "outputId": "c1eee712-b78f-43a5-973b-59bcbb702dbf"
      },
      "source": [
        "robo = ChatBot('Bot')\n",
        "\n",
        "trainer = ChatterBotCorpusTrainer(robo)\n",
        "\n",
        "trainer.train('chatterbot.corpus.portuguese')\n",
        "\n"
      ],
      "execution_count": 59,
      "outputs": [
        {
          "output_type": "stream",
          "text": [
            "Training compliment.yml: [####################] 100%\n",
            "Training conversations.yml: [####################] 100%\n",
            "Training greetings.yml: [####################] 100%\n",
            "Training linguistic_knowledge.yml: [####################] 100%\n",
            "Training proverbs.yml: [####################] 100%\n",
            "Training suggestions.yml: [####################] 100%\n",
            "Training trivia.yml: [####################] 100%\n",
            "Training unilab.yml: [####################] 100%\n"
          ],
          "name": "stdout"
        }
      ]
    },
    {
      "cell_type": "code",
      "metadata": {
        "id": "zDGqEv-15Ko5"
      },
      "source": [
        "def processarConversa(mensagem):\n",
        "  response_chatter = robo.get_response(mensagem)\n",
        "  #print('Bot: ',response_chatter)\n",
        "  return response_chatter\n",
        "\n",
        "\n",
        "#processarConversa(mensagem = input(\"Você: \"))"
      ],
      "execution_count": 60,
      "outputs": []
    },
    {
      "cell_type": "markdown",
      "metadata": {
        "id": "9Z9Hw6JVdXtZ"
      },
      "source": [
        "Aqui serão feitas as entradas e saídas de texto com uso da API do Telegram"
      ]
    },
    {
      "cell_type": "code",
      "metadata": {
        "id": "Ojmsq_XXb-BH",
        "colab": {
          "base_uri": "https://localhost:8080/"
        },
        "outputId": "edaa387e-3377-4157-de04-f666852ba816"
      },
      "source": [
        "def start(update, context):\n",
        "    response_message = \"Seja bem vindo\"\n",
        "    context.bot.send_message(\n",
        "        chat_id=update.effective_chat.id, text=response_message\n",
        "    )\n",
        "\n",
        "def responder(update,context):\n",
        "\n",
        "  \n",
        "  #Obtendo o String da mensagem enviada pelo usuário\n",
        "  received_message = update.message.text\n",
        "  \n",
        "\n",
        "  #Formando a resposta para o usuário em String\n",
        "  \n",
        "  response_message = str(processarConversa(received_message))\n",
        "\n",
        "  print(\"Usuário disse: \",received_message)\n",
        "  print(\"Bot disse: \",response_message)\n",
        "\n",
        "  context.bot.send_message(chat_id=update.effective_chat.id, text = response_message)\n",
        "\n",
        "\n",
        "#Função principal\n",
        "def main():\n",
        "  updater = Updater(token=TELEGRAM_TOKEN)\n",
        "  \n",
        "  dispatcher = updater.dispatcher\n",
        "\n",
        "  dispatcher.add_handler(CommandHandler(\"start\", start))\n",
        "  dispatcher.add_handler(MessageHandler(Filters.text, responder))\n",
        "  \n",
        "  \n",
        "\n",
        "  updater.start_polling()\n",
        "  updater.idle()\n",
        "\n",
        "main()"
      ],
      "execution_count": null,
      "outputs": [
        {
          "output_type": "stream",
          "text": [
            "Usuário disse:  oi\n",
            "Bot disse:  Como vai você?\n",
            "Usuário disse:  vou bem, e vc\n",
            "Bot disse:  Cada macaco no seu galho\n",
            "Usuário disse:  não seja grosso\n",
            "Bot disse:  Agora é melhor do que nunca.\n"
          ],
          "name": "stdout"
        }
      ]
    }
  ]
}
